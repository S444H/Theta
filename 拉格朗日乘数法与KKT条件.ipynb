{
 "cells": [
  {
   "cell_type": "markdown",
   "source": [
    "# 拉格朗日乘数法与KKT条件\n",
    "> 关于 **拉格朗日乘数法与KKT条件** 中的许多细节，在本文档当中并没有详细阐述，文档仅用于 **回忆与直观理解**"
   ],
   "metadata": {
    "collapsed": false
   },
   "id": "ecfc1bf070754cd8"
  },
  {
   "cell_type": "markdown",
   "source": [
    "| 问题类型            | 满足 KKT 的点是最优解？ | 最优解一定满足 KKT？ | 说明     |\n",
    "|-----------------|----------------|--------------|--------|\n",
    "| 凸优化 + Slater 条件 | ✅（充分）          | ✅（必要）        | 理想情况   |\n",
    "| 凸优化 + 无 Slater  | 不一定            | 不一定          | 需检查正则性 |\n",
    "| 非凸优化            | ❌（可能不是）        | ✅（在正则条件下）    | 只为候选点  |\n",
    "| 非连续/整数优化        | ❌              | ❌            | 需用其他工具 |\n"
   ],
   "metadata": {
    "collapsed": false
   },
   "id": "6867b36d9ca01d4f"
  },
  {
   "cell_type": "markdown",
   "source": [
    "## 拉格朗日乘数法（Lagrange Multipliers）\n",
    "> 由Joseph-Louis Lagrange（约瑟夫·路易·拉格朗日）在18世纪末（约1797年）提出，为解决带 **等式约束** 的最优化问题:"
   ],
   "metadata": {
    "collapsed": false
   },
   "id": "72d783819d39c221"
  },
  {
   "cell_type": "markdown",
   "source": [
    "> 为优化目标：\n",
    "\n",
    "$$\n",
    "\\min_{x \\in \\mathbb{R}^n} f(x)\n",
    "$$\n",
    "\n",
    "> 有约束条件：\n",
    "\n",
    "$$\n",
    "h_j(x) = 0, \\quad j = 1, \\dots, p\n",
    "$$\n",
    "\n",
    "> 构造拉格朗日函数([几何直观理解：梯度加权补偿](https://www.bilibili.com/video/BV15T411f7DY/?spm_id_from=333.1007.top_right_bar_window_custom_collection.content.click&vd_source=aa578ebaefb6f9eaa7073f057d120c80))：\n",
    "\n",
    "$$\n",
    "L(x, \\lambda) = f(x) + \\sum_{j=1}^p \\lambda_j h_j(x)\n",
    "$$\n",
    "\n",
    "> 然后求解一阶必要条件（候选极值点:驻点）：\n",
    "\n",
    "$$\n",
    "\\begin{cases}\n",
    "\\nabla_x L(x, \\lambda) = \\nabla f(x) + \\sum_{j=1}^p \\lambda_j \\nabla h_j(x) = 0 \\\\\n",
    "h_j(x) = 0, \\quad j = 1, \\dots, p\n",
    "\\end{cases}\n",
    "$$\n",
    "- 注意$\\nabla h_j(x) \\neq 0$"
   ],
   "metadata": {
    "collapsed": false
   },
   "id": "f3b0a0f652418cd0"
  },
  {
   "cell_type": "markdown",
   "source": [
    "### 拉格朗日乘数法遇到的问题:无法解决不等式约束\n",
    "> 现实问题常包含 **不等式约束**：\n",
    "$$\n",
    "g_i(x) \\leq 0, \\quad i = 1, \\dots, m\n",
    "$$\n",
    "> 然而 **拉格朗日乘数法** :\n",
    "- 无法区分 **活跃约束与非活跃约束**\n",
    "- 约束区域变复杂，梯度条件失效\n",
    "- 拉格朗日乘子无法反映不等式的性质"
   ],
   "metadata": {
    "collapsed": false
   },
   "id": "e2793df86ff2120e"
  },
  {
   "cell_type": "markdown",
   "source": [
    "---\n",
    "## KKT条件的提出\n",
    "> KKT 条件最初源于 1939 年 Karush 的硕士论文（未正式发表），然后由 Kuhn 和 Tucker 于 1951年正式发表并推广。因此，通常称为 **Karush-Kuhn-Tucker (KKT) 条件**。其目的是为了 **推广拉格朗日乘数法** ，处理 **带有等式和不等式约束** 的优化问题，提供了一套最优解的必要条件（在一定条件下为充分条件）"
   ],
   "metadata": {
    "collapsed": false
   },
   "id": "8f6481809e5f55ea"
  },
  {
   "cell_type": "markdown",
   "source": [
    "> 为优化问题：\n",
    "\n",
    "$$\n",
    "\\min_{x} f(x)\n",
    "$$\n",
    "\n",
    "> 有约束条件：\n",
    "\n",
    "$$\n",
    "\\begin{cases}\n",
    "g_i(x) \\leq 0, & i = 1, \\dots, m \\\\\n",
    "h_j(x) = 0, & j = 1, \\dots, p\n",
    "\\end{cases}\n",
    "$$\n",
    "\n",
    "\n",
    "> 若 $\\(x^*\\)$ 是局部最优，满足一定正则性，则存在乘子 $\\(\\lambda^*, \\nu^*\\)$ 满足：\n",
    "1. **可行性**：\n",
    "\n",
    "$$\n",
    "g_i(x^*) \\leq 0, \\quad h_j(x^*) = 0\n",
    "$$\n",
    "\n",
    "2. **一阶驻点条件**：\n",
    "\n",
    "$$\n",
    "\\nabla f(x^*) + \\sum_{i=1}^m \\lambda_i^* \\nabla g_i(x^*) + \\sum_{j=1}^p \\nu_j^* \\nabla h_j(x^*) = 0\n",
    "$$\n",
    "\n",
    "3. **乘子非负性**：\n",
    "\n",
    "$$\n",
    "\\lambda_i^* \\geq 0, \\quad \\forall i\n",
    "$$\n",
    "\n",
    "4. **互补松弛性**：\n",
    "\n",
    "$$\n",
    "\\lambda_i^* g_i(x^*) = 0, \\quad \\forall i\n",
    "$$\n",
    "\n",
    "- 若 $\\(g_i(x^*) < 0\\)$：非活跃约束，$\\(\\lambda_i^* = 0\\)$，意味着该约束对当前最优点不产生边界影响\n",
    "- 若 $\\(g_i(x^*) = 0\\)$：活跃约束，$\\(\\lambda_i^* \\geq 0\\)$，保证目标函数梯度可以由 **约束梯度加权补偿** ([几何直观理解：梯度加权补偿](https://www.bilibili.com/video/BV15T411f7DY/?spm_id_from=333.1007.top_right_bar_window_custom_collection.content.click&vd_source=aa578ebaefb6f9eaa7073f057d120c80))\n",
    "\n",
    "> **互补松弛性机制自动且数学严谨地判定了约束是否活跃**"
   ],
   "metadata": {
    "collapsed": false
   },
   "id": "89d321a4fa58361a"
  },
  {
   "cell_type": "markdown",
   "source": [
    "---\n",
    "## 示例：一维问题\n",
    "\n",
    "> 考虑问题：\n",
    "$$\n",
    "\\min_{x \\in \\mathbb{R}} f(x) = (x - 2)^2 \\\\\n",
    "\\text{subject to } x - 1 \\leq 0\n",
    "$$\n",
    "\n",
    "> 目标点为 $\\(x = 2\\)$，但不满足约束，故解为边界点：\n",
    "$$\n",
    "x^* = 1\n",
    "$$\n",
    "\n",
    "> 构造拉格朗日函数：\n",
    "$$\n",
    "L(x, \\lambda) = (x - 2)^2 + \\lambda(x - 1)\n",
    "$$\n",
    "\n",
    "> KKT 条件：\n",
    "- 梯度条件：$\\(\\frac{d}{dx}L = 2(x - 2) + \\lambda = 0\\)$\n",
    "- 可行性：$\\(x \\leq 1\\)$\n",
    "- 乘子非负：$\\(\\lambda \\geq 0\\)$\n",
    "- 互补松弛性：$\\(\\lambda(x - 1) = 0\\)$\n",
    "\n",
    "> 解得：\n",
    "$$\n",
    "x^* = 1, \\quad \\lambda^* = 2\n",
    "$$"
   ],
   "metadata": {
    "collapsed": false
   },
   "id": "764d8e604d4ddc65"
  }
 ],
 "metadata": {
  "kernelspec": {
   "display_name": "Python 3",
   "language": "python",
   "name": "python3"
  },
  "language_info": {
   "codemirror_mode": {
    "name": "ipython",
    "version": 2
   },
   "file_extension": ".py",
   "mimetype": "text/x-python",
   "name": "python",
   "nbconvert_exporter": "python",
   "pygments_lexer": "ipython2",
   "version": "2.7.6"
  }
 },
 "nbformat": 4,
 "nbformat_minor": 5
}
