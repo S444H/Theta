{
 "cells": [
  {
   "cell_type": "markdown",
   "source": [
    "# 自由度（Degrees of Freedom, DoF）\n",
    "### 引入:\n",
    "> 为什么使用样本均值，样本方差的估计使用 \\( n - 1 \\)?\n",
    "$$s^2=\\frac{1}{n-1}\\sum_{i=1}^n(x_i-\\bar{x})^2$$\n",
    "\n",
    "[最初学习视频](https://www.youtube.com/watch?v=VDlnuO96p58)\n",
    "\n",
    "---\n",
    "## 数学推导:\n",
    "> 总体方差定义为：\n",
    "$$\\sigma^2=\\mathrm{Var}(X)=\\mathbb{E}\\left[(X-\\mu)^2\\right]$$\n",
    "> 有:\n",
    "$$\\mathbb{E}[S_n^2]=\\mathbb{E}\\left[\\frac{1}{n}\\sum_{i=1}^n(X_i-\\bar{X})^2\\right]=\\frac{n-1}{n}\\sigma^2$$\n",
    "> 可见：\n",
    "- $S_{n}^{2}$ 是 $\\sigma^{2}$ 的偏小估计，带有系统误差\n",
    "> 改为n-1:\n",
    "$$\\mathbb{E}[S_{n-1}^2]=\\mathbb{E}\\left[\\frac{1}{n-1}\\sum_{i=1}^n(X_i-\\bar{X})^2\\right]=\\sigma^2$$\n",
    "- 为无偏估计"
   ],
   "metadata": {
    "collapsed": false
   },
   "id": "8565ef64373b751d"
  },
  {
   "cell_type": "markdown",
   "source": [
    "## 有没有更为直观的理解方式 ? \n",
    "### 以下引入自由度自由度（DoF）:\n",
    "\n",
    "> 在统计分析中，自由度（Degrees of Freedom, DoF）是指在估计某个统计量（如均值、方差、协方差、回归系数）时， *数据中可以自由变化的独立数值的个数，也即在给定某些约束条件下，样本值中能够自由取值的数量。*\n",
    "\n",
    "---\n",
    "假设有 $n$ 个一维样本数据：\n",
    "\n",
    "$$\n",
    "\\mathbf{X} = \\begin{bmatrix} x_1 \\\\ x_2 \\\\ \\vdots \\\\ x_n \\end{bmatrix} \\in \\mathbb{R}^n\n",
    "$$"
   ],
   "metadata": {
    "collapsed": false
   },
   "id": "a3e8041a896058bf"
  },
  {
   "cell_type": "markdown",
   "source": [
    "## 数据中心化(使用样本均值)后的自由度分析:\n",
    "> 样本均值：\n",
    "> $$\n",
    "\\bar{x} = \\frac{1}{n} \\sum_{i=1}^n x_i\n",
    "$$\n",
    "> 残差向量（中心化后）：\n",
    "> $$\n",
    "\\mathbf{R} = \\mathbf{X} - \\bar{x} \\cdot \\mathbf{1} = (\\mathbf{I} - \\frac{1}{n} \\mathbf{1}\\mathbf{1}^\\mathrm{T})\\mathbf{X} = \\mathbf{H}\\mathbf{X}\n",
    "$$\n",
    "> 其中：\n",
    "- $\\mathbf{1} \\in \\mathbb{R}^n$ $(n\\times 1)$：全 1 向量\n",
    "- $\\mathbf{H} = \\mathbf{I} - \\frac{1}{n} \\mathbf{1}\\mathbf{1}^\\mathrm{T}$ $(n\\times n)$：中心化矩阵（投影矩阵）\n",
    "\n",
    "### 拥有约束：残差和为零:\n",
    "\n",
    "$$\n",
    "\\sum_{i=1}^n (x_i - \\bar{x}) = 0 \\quad \\Rightarrow \\quad \\mathbf{1}^\\mathrm{T} \\mathbf{R} = 0\n",
    "$$\n",
    "\n",
    "这是一个线性约束条件，意味着：\n",
    "\n",
    "残差向量 $\\mathbf{R}$ $(n\\times 1)$ 被限制在一个正交于常数向量 $\\mathbf{1}$ 的 $(n - 1)$ 维子空间中。\n",
    "\n",
    "### 矩阵角度：\n",
    "\n",
    "- 原始空间：$\\mathbb{R}^n$，维度为 $n$\n",
    "- **被估计的参数：样本均值（是 $\\mathbf{1}$ 的方向），消耗了 1 个维度**\n",
    "- 残差向量必须正交于 $\\mathbf{1}$，即只能在 $\\mathbb{R}^n$ 中的一个 $(n - 1)$ 维子空间中活动\n"
   ],
   "metadata": {
    "collapsed": false
   },
   "id": "6d992d8ab0ae4ea"
  },
  {
   "cell_type": "markdown",
   "source": [
    "## 已知 *总体期望* 时的自由度分析:\n",
    "\n",
    "> 假设已知总体期望 $\\mu$，那么定义误差为：\n",
    "> $$\n",
    "\\mathbf{E} = \\mathbf{X} - \\mu \\cdot \\mathbf{1}\n",
    "$$\n",
    "> 此时：\n",
    "- $\\mu$ 是一个外部固定常量\n",
    "- 每个数据点与 $\\mu$ 的差值都是独立自由的\n",
    "- 没有额外约束存在\n",
    "> 所以：\n",
    "$$\n",
    "\\text{自由度} = n\n",
    "$$\n"
   ],
   "metadata": {
    "collapsed": false
   },
   "id": "8437d853aaece96b"
  },
  {
   "cell_type": "markdown",
   "source": [
    "## 两者对比:\n",
    "> 使用样本均差估计:\n",
    "$$X=\n",
    "\\begin{bmatrix}\n",
    "X_1-\\bar{X} \\\\\n",
    "X_2-\\bar{X} \\\\\n",
    "\\vdots \\\\\n",
    "X_n-\\bar{X}\n",
    "\\end{bmatrix}+\\bar{x}\n",
    "\\begin{bmatrix}\n",
    "1 \\\\\n",
    "1 \\\\\n",
    "\\vdots \\\\\n",
    "1\n",
    "\\end{bmatrix}$$\n",
    "> 使用总体期望估计:\n",
    "$$X=\n",
    "\\begin{bmatrix}\n",
    "X_1-\\mu \\\\\n",
    "X_2-\\mu \\\\\n",
    "\\vdots \\\\\n",
    "X_n-\\mu\n",
    "\\end{bmatrix}+\\mu\n",
    "\\begin{bmatrix}\n",
    "1 \\\\\n",
    "1 \\\\\n",
    "\\vdots \\\\\n",
    "1\n",
    "\\end{bmatrix}$$\n",
    "\n",
    "| 分解类型     | 表达式                                                  | 是否估计参数 | 约束数量 | 自由度     |\n",
    "|----------|------------------------------------------------------|--------|------|---------|\n",
    "| 残差（中心化）  | $\\mathbf{R} = \\mathbf{X} - \\bar{x} \\cdot \\mathbf{1}$ | 是      | 1    | $n - 1$ |\n",
    "| 误差（总体期望） | $\\mathbf{E} = \\mathbf{X} - \\mu \\cdot \\mathbf{1}$     | 否      | 0    | $n$     |\n"
   ],
   "metadata": {
    "collapsed": false
   },
   "id": "950589ea8843d633"
  },
  {
   "cell_type": "markdown",
   "source": [
    "## 总结:\n",
    ">从以上推导可以看出:\n",
    "**当使用样本均值时，自然的将各个样本数据大部分分量表达局限至某个空间，降低了自由度，使得数据围绕样本均值的偏差看起来更小，所以需要除以 n−1 来放大估计，才能让方差的平均值准确反映总体的真实变异程度.**\n",
    "\n",
    "加上以上数据方差的估计，许多场景中也常会应用 **自由度修正**：\n",
    "\n",
    "| 场景               | 是否使用 $n-1$ | 原因说明             |\n",
    "|------------------|------------|------------------|\n",
    "| 样本方差估计           | ✅          | 样本均值已消耗 1 个自由度   |\n",
    "| 线性回归误差估计         | ✅          | 每个模型参数消耗自由度      |\n",
    "| PCA 协方差估计        | ✅          | 中心化数据引入约束        |\n",
    "| 假设检验（t / F 检验）   | ✅          | t / F 分布需要自由度确定  |\n",
    "| 贝叶斯估计中的协方差推断     | ✅          | 确保后验推断不会偏小       |\n",
    "| 神经网络中的 BatchNorm | ❌ 一般不用     | 实践中使用有偏估计，但有理论讨论 |\n"
   ],
   "metadata": {
    "collapsed": false
   },
   "id": "f36b891aa5871487"
  }
 ],
 "metadata": {
  "kernelspec": {
   "display_name": "Python 3",
   "language": "python",
   "name": "python3"
  },
  "language_info": {
   "codemirror_mode": {
    "name": "ipython",
    "version": 2
   },
   "file_extension": ".py",
   "mimetype": "text/x-python",
   "name": "python",
   "nbconvert_exporter": "python",
   "pygments_lexer": "ipython2",
   "version": "2.7.6"
  }
 },
 "nbformat": 4,
 "nbformat_minor": 5
}
